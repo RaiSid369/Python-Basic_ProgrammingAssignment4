{
 "cells": [
  {
   "cell_type": "code",
   "execution_count": null,
   "id": "d58555f8",
   "metadata": {},
   "outputs": [],
   "source": [
    "# 1. Write a Python Program to Find the Factorial of a Number."
   ]
  },
  {
   "cell_type": "code",
   "execution_count": null,
   "id": "4a2b87c4",
   "metadata": {},
   "outputs": [],
   "source": [
    "A = int(input(\"Enter the number to get its factorial = \"))\n",
    "a = 1\n",
    "for i in range(1,A+1):\n",
    "    a =a*i\n",
    "print(a)"
   ]
  },
  {
   "cell_type": "code",
   "execution_count": null,
   "id": "0b0c13a9",
   "metadata": {},
   "outputs": [],
   "source": []
  },
  {
   "cell_type": "code",
   "execution_count": null,
   "id": "f7d1135b",
   "metadata": {},
   "outputs": [],
   "source": [
    "# 2. Write a Python Program to Display the multiplication Table"
   ]
  },
  {
   "cell_type": "code",
   "execution_count": null,
   "id": "718e8fa0",
   "metadata": {},
   "outputs": [],
   "source": [
    "A = int(input(\"Enter the number for which multiplication table is required =\"))\n",
    "for i in range(1,11):\n",
    "    print(A, \"X\", i, \"=\", A*i)"
   ]
  },
  {
   "cell_type": "code",
   "execution_count": null,
   "id": "c70d94a3",
   "metadata": {},
   "outputs": [],
   "source": []
  },
  {
   "cell_type": "code",
   "execution_count": null,
   "id": "e0f55603",
   "metadata": {},
   "outputs": [],
   "source": [
    "# 3. Write a Python Program to Print the Fibonacci sequence?"
   ]
  },
  {
   "cell_type": "code",
   "execution_count": null,
   "id": "e732ea33",
   "metadata": {},
   "outputs": [],
   "source": [
    "n = int(input(\"Provide the nth term = \"))\n",
    "a = 1\n",
    "b = 1\n",
    "l = []\n",
    "for i in range(n):\n",
    "    l.append(a)\n",
    "    a, b = b, a+b\n",
    "print(l)"
   ]
  },
  {
   "cell_type": "code",
   "execution_count": null,
   "id": "b2322369",
   "metadata": {},
   "outputs": [],
   "source": []
  },
  {
   "cell_type": "code",
   "execution_count": null,
   "id": "886fb7b0",
   "metadata": {},
   "outputs": [],
   "source": [
    "# 4. Write a Python Program to Check Armstrong Number?"
   ]
  },
  {
   "cell_type": "code",
   "execution_count": null,
   "id": "a4509dce",
   "metadata": {},
   "outputs": [],
   "source": [
    "a = input(\"Enter the number = \")\n",
    "Count = 0\n",
    "for i in range(len(a)):\n",
    "    Count = Count + int(a[i])**3\n",
    "if Count == int(a):\n",
    "    print(\"It's an Armstrong number\")\n",
    "else:\n",
    "    print(\"It's NOT an Armstrong Number\")"
   ]
  },
  {
   "cell_type": "code",
   "execution_count": null,
   "id": "87fce172",
   "metadata": {},
   "outputs": [],
   "source": []
  },
  {
   "cell_type": "code",
   "execution_count": null,
   "id": "97fddfe0",
   "metadata": {},
   "outputs": [],
   "source": [
    "# 5. Write a Python Program to Find Armstrong Number in an Interval?"
   ]
  },
  {
   "cell_type": "code",
   "execution_count": null,
   "id": "c4d9a1f4",
   "metadata": {},
   "outputs": [],
   "source": [
    "LowerLimit = input(\"Enter the lower limit of interval = \")\n",
    "UpperLimit = input(\"Enter the lower limit of interval = \")\n",
    "L = []\n",
    "for j in range(int(LowerLimit), int(UpperLimit)+1):\n",
    "    a = str(j)\n",
    "    Count = 0\n",
    "    for i in range(len(a)):\n",
    "        Count = Count + int(a[i])**3\n",
    "    if Count == int(a):\n",
    "        L.append(int(a))\n",
    "print(L)"
   ]
  },
  {
   "cell_type": "code",
   "execution_count": null,
   "id": "21625f2b",
   "metadata": {},
   "outputs": [],
   "source": []
  },
  {
   "cell_type": "code",
   "execution_count": null,
   "id": "827ec82a",
   "metadata": {},
   "outputs": [],
   "source": [
    "# 6. Write a Python Program to Find the Sum of Natural Numbers."
   ]
  },
  {
   "cell_type": "code",
   "execution_count": null,
   "id": "d15c26c0",
   "metadata": {},
   "outputs": [],
   "source": [
    "A = int(input(\"Enter the natural number upto which sum is required = \"))\n",
    "a = 0\n",
    "for i in range(1,A+1):\n",
    "    a = a + i\n",
    "print(a)"
   ]
  }
 ],
 "metadata": {
  "kernelspec": {
   "display_name": "Python 3 (ipykernel)",
   "language": "python",
   "name": "python3"
  },
  "language_info": {
   "codemirror_mode": {
    "name": "ipython",
    "version": 3
   },
   "file_extension": ".py",
   "mimetype": "text/x-python",
   "name": "python",
   "nbconvert_exporter": "python",
   "pygments_lexer": "ipython3",
   "version": "3.9.12"
  }
 },
 "nbformat": 4,
 "nbformat_minor": 5
}
